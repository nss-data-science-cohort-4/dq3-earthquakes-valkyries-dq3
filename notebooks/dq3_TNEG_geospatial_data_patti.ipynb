{
 "cells": [
  {
   "cell_type": "code",
   "execution_count": 1,
   "metadata": {},
   "outputs": [
    {
     "ename": "ModuleNotFoundError",
     "evalue": "No module named 'cartopy'",
     "output_type": "error",
     "traceback": [
      "\u001b[1;31m---------------------------------------------------------------------------\u001b[0m",
      "\u001b[1;31mModuleNotFoundError\u001b[0m                       Traceback (most recent call last)",
      "\u001b[1;32m<ipython-input-1-7aec77744c22>\u001b[0m in \u001b[0;36m<module>\u001b[1;34m\u001b[0m\n\u001b[0;32m     15\u001b[0m \u001b[1;32mfrom\u001b[0m \u001b[0mfolium\u001b[0m\u001b[1;33m.\u001b[0m\u001b[0mplugins\u001b[0m \u001b[1;32mimport\u001b[0m \u001b[0mMarkerCluster\u001b[0m\u001b[1;33m\u001b[0m\u001b[1;33m\u001b[0m\u001b[0m\n\u001b[0;32m     16\u001b[0m \u001b[1;32mfrom\u001b[0m \u001b[0mfolium\u001b[0m\u001b[1;33m.\u001b[0m\u001b[0mplugins\u001b[0m \u001b[1;32mimport\u001b[0m \u001b[0mFastMarkerCluster\u001b[0m\u001b[1;33m\u001b[0m\u001b[1;33m\u001b[0m\u001b[0m\n\u001b[1;32m---> 17\u001b[1;33m \u001b[1;32mimport\u001b[0m \u001b[0mcartopy\u001b[0m\u001b[1;33m\u001b[0m\u001b[1;33m\u001b[0m\u001b[0m\n\u001b[0m\u001b[0;32m     18\u001b[0m \u001b[1;32mimport\u001b[0m \u001b[0mcartopy\u001b[0m\u001b[1;33m.\u001b[0m\u001b[0mio\u001b[0m\u001b[1;33m.\u001b[0m\u001b[0mshapereader\u001b[0m \u001b[1;32mas\u001b[0m \u001b[0mshapereader\u001b[0m\u001b[1;33m\u001b[0m\u001b[1;33m\u001b[0m\u001b[0m\n\u001b[0;32m     19\u001b[0m \u001b[1;31m#from cartopy.io import shapereader\u001b[0m\u001b[1;33m\u001b[0m\u001b[1;33m\u001b[0m\u001b[1;33m\u001b[0m\u001b[0m\n",
      "\u001b[1;31mModuleNotFoundError\u001b[0m: No module named 'cartopy'"
     ]
    }
   ],
   "source": [
    "# import statements\n",
    "import pandas as pdtn_county_map\n",
    "import numpy as np\n",
    "import requests\n",
    "#from bs4 import BeautifulSoup as bs\n",
    "from IPython.core.display import HTML\n",
    "import matplotlib.pyplot as plt\n",
    "#import seaborn as sns\n",
    "from io import StringIO\n",
    "from shapely.geometry import Point\n",
    "import pandas as pd\n",
    "import geopandas as gpd\n",
    "import matplotlib.pyplot as plt\n",
    "import folium\n",
    "from folium.plugins import MarkerCluster\n",
    "from folium.plugins import FastMarkerCluster\n",
    "import cartopy\n",
    "import cartopy.io.shapereader as shapereader\n",
    "#from cartopy.io import shapereader\n",
    "%matplotlib inline\n",
    "# import io\n",
    "# import scipy.stats as stats\n",
    "# import statsmodels.api as sm\n",
    "\n",
    "#Note - had to # out cartopy due to error"
   ]
  },
  {
   "cell_type": "code",
   "execution_count": null,
   "metadata": {},
   "outputs": [],
   "source": [
    "# display settings\n",
    "pd.set_option('display.max_rows', 500)\n",
    "pd.set_option('display.max_columns', 500)\n",
    "pd.set_option('display.width', 1000)"
   ]
  },
  {
   "cell_type": "markdown",
   "metadata": {},
   "source": [
    "**Create a base map for the state of TN, broken down by county.**"
   ]
  },
  {
   "cell_type": "code",
   "execution_count": null,
   "metadata": {},
   "outputs": [],
   "source": [
    "# Create a folium map, but probably not the best idea\n",
    "# tn_map = folium.Map(location=[36,-86], zoom_start = 7)\n",
    "# tn_map"
   ]
  },
  {
   "cell_type": "code",
   "execution_count": 7,
   "metadata": {},
   "outputs": [],
   "source": [
    "# Create a base map by importing the base shape file for TN census map\n",
    "# Annoyingly, this is broken down by Census division, not by county\n",
    "# tn_census_map = gpd.read_file('../data/2018-TN-basemap/tl_2016_47_cousub.shp')\n",
    "# tn_census_map.info()"
   ]
  },
  {
   "cell_type": "code",
   "execution_count": 8,
   "metadata": {},
   "outputs": [],
   "source": [
    "# Check to see if COUNTYFP |is the right level to aggregate at to get county-level geometries\n",
    "# tn_census_map['COUNTYFP'].nunique()"
   ]
  },
  {
   "cell_type": "code",
   "execution_count": 9,
   "metadata": {},
   "outputs": [],
   "source": [
    "# Attempt to aggregate geometries by county\n",
    "# tn_census_map.groupby('COUNTYFP')['geometry']"
   ]
  },
  {
   "cell_type": "code",
   "execution_count": 1,
   "metadata": {},
   "outputs": [],
   "source": [
    "# Ask Michael, get this county-level base map shapefile instead\n",
    "tn_county_map = gpd.read_file('../maps/tncounty.shp')\n",
    "tn_county_map.plot();"
   ]
  },
  {
   "cell_type": "code",
   "execution_count": 2,
   "metadata": {},
   "outputs": [],
   "source": [
    "# Take a look at the base map dataframe\n",
    "tn_county_map.head()"
   ]
  },
  {
   "cell_type": "code",
   "execution_count": 3,
   "metadata": {},
   "outputs": [],
   "source": [
    "# Check to make sure nothing is missing\n",
    "tn_county_map.info()"
   ]
  },
  {
   "cell_type": "code",
   "execution_count": 4,
   "metadata": {},
   "outputs": [],
   "source": [
    "# check the projection type\n",
    "tn_county_map.crs"
   ]
  },
  {
   "cell_type": "code",
   "execution_count": 6,
   "metadata": {},
   "outputs": [],
   "source": [
    "# change the projection type\n",
    "tn_county_map = tn_county_map.to_crs('EPSG:4326')\n",
    "print(tn_county_map.crs)\n",
    "# Make sure the base map dataset is good to go\n",
    "tn_county_map.head(2)"
   ]
  },
  {
   "cell_type": "markdown",
   "metadata": {},
   "source": [
    "**Read in the deadly earthquakes since 1900 wikitable and turn it into a Geo DataFrame.**"
   ]
  },
  {
   "cell_type": "code",
   "execution_count": 7,
   "metadata": {},
   "outputs": [],
   "source": [
    "#earthquakes = pd.read_csv('../data/earthquakes_wikitable.csv')"
   ]
  },
  {
   "cell_type": "code",
   "execution_count": 8,
   "metadata": {},
   "outputs": [],
   "source": [
    "#earthquakes.head()"
   ]
  },
  {
   "cell_type": "code",
   "execution_count": 9,
   "metadata": {},
   "outputs": [],
   "source": [
    "#earthquakes.info()"
   ]
  },
  {
   "cell_type": "code",
   "execution_count": 10,
   "metadata": {},
   "outputs": [],
   "source": [
    "#earthquakes['origin_utc'] = pd.to_datetime(earthquakes['origin_utc'])"
   ]
  },
  {
   "cell_type": "code",
   "execution_count": 11,
   "metadata": {},
   "outputs": [],
   "source": [
    "# remove excess columns\n",
    "#earthquakes = earthquakes.drop(['pde_shaking_deaths', 'pde_total_deaths', 'utsu_total_deaths', 'em_dat_total_deaths', 'other_source_deaths', 'other_source_deaths_new', 'osd1', 'osd2', 'osd3'], axis = 1)"
   ]
  },
  {
   "cell_type": "code",
   "execution_count": 12,
   "metadata": {},
   "outputs": [],
   "source": [
    "#earthquakes.head()"
   ]
  },
  {
   "cell_type": "code",
   "execution_count": null,
   "metadata": {},
   "outputs": [],
   "source": [
    "# Clean up the lat/long columns\n",
    "# earthquakes['lat'] = earthquakes['lat'].str.replace('?','')\n",
    "# earthquakes['long'] = earthquakes['long'].str.replace('?','')"
   ]
  },
  {
   "cell_type": "code",
   "execution_count": null,
   "metadata": {},
   "outputs": [],
   "source": [
    "# Turn the lat/long into floats\n",
    "# earthquakes['long'] = pd.to_numeric(earthquakes['long'])\n",
    "# earthquakes['lat'] = pd.to_numeric(earthquakes['lat'])"
   ]
  },
  {
   "cell_type": "code",
   "execution_count": null,
   "metadata": {},
   "outputs": [],
   "source": [
    "# Create a new column named 'geometry' which combines the latitude and longitude\n",
    "# earthquakes['geometry'] = earthquakes.apply(lambda x: Point((float(x.long),\n",
    "#                                                             float(x.lat))),\n",
    "#                                            axis = 1)\n",
    "# earthquakes.head()"
   ]
  },
  {
   "cell_type": "code",
   "execution_count": 14,
   "metadata": {},
   "outputs": [],
   "source": [
    "# Turn the Wikipedia Deadly Earthquakes since 1900 table into a Geo Data Frame\n",
    "#deadly_earthquakes_geo = gpd.GeoDataFrame(earthquakes,\n",
    "#                                          crs = tn_county_map.crs,\n",
    "#                                          geometry = earthquakes['geometry'])"
   ]
  },
  {
   "cell_type": "markdown",
   "metadata": {},
   "source": [
    "The Wikipedia deadly earthquakes since 1900 table is now ready for a spatial join."
   ]
  },
  {
   "cell_type": "markdown",
   "metadata": {},
   "source": [
    "**Next, pull in the USGS data for earthquakes in TN (as defined in this gist: https://gist.github.com/jakebathman/719e8416191ba14bb6e700fc2d5fccc5) and turn it into a Geo DataFrame.**"
   ]
  },
  {
   "cell_type": "code",
   "execution_count": 18,
   "metadata": {},
   "outputs": [],
   "source": [
    "url = 'https://earthquake.usgs.gov/fdsnws/event/1/query?format=csv&starttime=1900-01-01&endtime=2020-10-22&minlatitude=34.9884&maxlatitude=36.6871&minlongitude=-90.3131&maxlongitude=-81.6518'"
   ]
  },
  {
   "cell_type": "code",
   "execution_count": 19,
   "metadata": {},
   "outputs": [],
   "source": [
    "r = requests.get(url)"
   ]
  },
  {
   "cell_type": "code",
   "execution_count": 20,
   "metadata": {},
   "outputs": [
    {
     "data": {
      "text/html": [
       "<div>\n",
       "<style scoped>\n",
       "    .dataframe tbody tr th:only-of-type {\n",
       "        vertical-align: middle;\n",
       "    }\n",
       "\n",
       "    .dataframe tbody tr th {\n",
       "        vertical-align: top;\n",
       "    }\n",
       "\n",
       "    .dataframe thead th {\n",
       "        text-align: right;\n",
       "    }\n",
       "</style>\n",
       "<table border=\"1\" class=\"dataframe\">\n",
       "  <thead>\n",
       "    <tr style=\"text-align: right;\">\n",
       "      <th></th>\n",
       "      <th>time</th>\n",
       "      <th>latitude</th>\n",
       "      <th>longitude</th>\n",
       "      <th>depth</th>\n",
       "      <th>mag</th>\n",
       "      <th>magType</th>\n",
       "      <th>nst</th>\n",
       "      <th>gap</th>\n",
       "      <th>dmin</th>\n",
       "      <th>rms</th>\n",
       "      <th>...</th>\n",
       "      <th>updated</th>\n",
       "      <th>place</th>\n",
       "      <th>type</th>\n",
       "      <th>horizontalError</th>\n",
       "      <th>depthError</th>\n",
       "      <th>magError</th>\n",
       "      <th>magNst</th>\n",
       "      <th>status</th>\n",
       "      <th>locationSource</th>\n",
       "      <th>magSource</th>\n",
       "    </tr>\n",
       "  </thead>\n",
       "  <tbody>\n",
       "    <tr>\n",
       "      <th>0</th>\n",
       "      <td>2020-10-21T21:49:45.720Z</td>\n",
       "      <td>36.070500</td>\n",
       "      <td>-89.802333</td>\n",
       "      <td>6.84</td>\n",
       "      <td>2.14</td>\n",
       "      <td>md</td>\n",
       "      <td>46.0</td>\n",
       "      <td>40.0</td>\n",
       "      <td>0.06430</td>\n",
       "      <td>0.10</td>\n",
       "      <td>...</td>\n",
       "      <td>2020-10-22T12:49:53.160Z</td>\n",
       "      <td>2 km NNE of Cooter, Missouri</td>\n",
       "      <td>earthquake</td>\n",
       "      <td>0.17</td>\n",
       "      <td>0.49</td>\n",
       "      <td>0.092</td>\n",
       "      <td>31.0</td>\n",
       "      <td>reviewed</td>\n",
       "      <td>nm</td>\n",
       "      <td>nm</td>\n",
       "    </tr>\n",
       "    <tr>\n",
       "      <th>1</th>\n",
       "      <td>2020-10-21T20:28:42.930Z</td>\n",
       "      <td>36.525000</td>\n",
       "      <td>-89.569167</td>\n",
       "      <td>6.85</td>\n",
       "      <td>1.69</td>\n",
       "      <td>md</td>\n",
       "      <td>19.0</td>\n",
       "      <td>50.0</td>\n",
       "      <td>0.02596</td>\n",
       "      <td>0.03</td>\n",
       "      <td>...</td>\n",
       "      <td>2020-10-22T14:45:56.660Z</td>\n",
       "      <td>3 km E of Marston, Missouri</td>\n",
       "      <td>earthquake</td>\n",
       "      <td>0.34</td>\n",
       "      <td>0.63</td>\n",
       "      <td>0.167</td>\n",
       "      <td>12.0</td>\n",
       "      <td>reviewed</td>\n",
       "      <td>nm</td>\n",
       "      <td>nm</td>\n",
       "    </tr>\n",
       "    <tr>\n",
       "      <th>2</th>\n",
       "      <td>2020-10-21T04:55:51.350Z</td>\n",
       "      <td>36.545667</td>\n",
       "      <td>-89.649000</td>\n",
       "      <td>8.01</td>\n",
       "      <td>1.61</td>\n",
       "      <td>md</td>\n",
       "      <td>24.0</td>\n",
       "      <td>44.0</td>\n",
       "      <td>0.02245</td>\n",
       "      <td>0.04</td>\n",
       "      <td>...</td>\n",
       "      <td>2020-10-21T13:04:57.100Z</td>\n",
       "      <td>4 km NW of Marston, Missouri</td>\n",
       "      <td>earthquake</td>\n",
       "      <td>0.44</td>\n",
       "      <td>0.40</td>\n",
       "      <td>0.147</td>\n",
       "      <td>21.0</td>\n",
       "      <td>reviewed</td>\n",
       "      <td>nm</td>\n",
       "      <td>nm</td>\n",
       "    </tr>\n",
       "    <tr>\n",
       "      <th>3</th>\n",
       "      <td>2020-10-21T03:00:08.800Z</td>\n",
       "      <td>36.313667</td>\n",
       "      <td>-89.536167</td>\n",
       "      <td>9.50</td>\n",
       "      <td>1.23</td>\n",
       "      <td>md</td>\n",
       "      <td>17.0</td>\n",
       "      <td>65.0</td>\n",
       "      <td>0.02693</td>\n",
       "      <td>0.06</td>\n",
       "      <td>...</td>\n",
       "      <td>2020-10-21T13:18:24.430Z</td>\n",
       "      <td>7 km NW of Ridgely, Tennessee</td>\n",
       "      <td>earthquake</td>\n",
       "      <td>0.68</td>\n",
       "      <td>0.51</td>\n",
       "      <td>0.032</td>\n",
       "      <td>10.0</td>\n",
       "      <td>reviewed</td>\n",
       "      <td>nm</td>\n",
       "      <td>nm</td>\n",
       "    </tr>\n",
       "    <tr>\n",
       "      <th>4</th>\n",
       "      <td>2020-10-20T18:50:21.800Z</td>\n",
       "      <td>36.267500</td>\n",
       "      <td>-89.523333</td>\n",
       "      <td>8.84</td>\n",
       "      <td>2.33</td>\n",
       "      <td>md</td>\n",
       "      <td>46.0</td>\n",
       "      <td>33.0</td>\n",
       "      <td>0.01520</td>\n",
       "      <td>0.11</td>\n",
       "      <td>...</td>\n",
       "      <td>2020-10-21T12:29:35.220Z</td>\n",
       "      <td>3 km W of Ridgely, Tennessee</td>\n",
       "      <td>earthquake</td>\n",
       "      <td>0.15</td>\n",
       "      <td>0.30</td>\n",
       "      <td>0.142</td>\n",
       "      <td>34.0</td>\n",
       "      <td>reviewed</td>\n",
       "      <td>nm</td>\n",
       "      <td>nm</td>\n",
       "    </tr>\n",
       "  </tbody>\n",
       "</table>\n",
       "<p>5 rows × 22 columns</p>\n",
       "</div>"
      ],
      "text/plain": [
       "                       time   latitude  longitude  depth   mag magType   nst  \\\n",
       "0  2020-10-21T21:49:45.720Z  36.070500 -89.802333   6.84  2.14      md  46.0   \n",
       "1  2020-10-21T20:28:42.930Z  36.525000 -89.569167   6.85  1.69      md  19.0   \n",
       "2  2020-10-21T04:55:51.350Z  36.545667 -89.649000   8.01  1.61      md  24.0   \n",
       "3  2020-10-21T03:00:08.800Z  36.313667 -89.536167   9.50  1.23      md  17.0   \n",
       "4  2020-10-20T18:50:21.800Z  36.267500 -89.523333   8.84  2.33      md  46.0   \n",
       "\n",
       "    gap     dmin   rms  ...                   updated  \\\n",
       "0  40.0  0.06430  0.10  ...  2020-10-22T12:49:53.160Z   \n",
       "1  50.0  0.02596  0.03  ...  2020-10-22T14:45:56.660Z   \n",
       "2  44.0  0.02245  0.04  ...  2020-10-21T13:04:57.100Z   \n",
       "3  65.0  0.02693  0.06  ...  2020-10-21T13:18:24.430Z   \n",
       "4  33.0  0.01520  0.11  ...  2020-10-21T12:29:35.220Z   \n",
       "\n",
       "                           place        type horizontalError depthError  \\\n",
       "0   2 km NNE of Cooter, Missouri  earthquake            0.17       0.49   \n",
       "1    3 km E of Marston, Missouri  earthquake            0.34       0.63   \n",
       "2   4 km NW of Marston, Missouri  earthquake            0.44       0.40   \n",
       "3  7 km NW of Ridgely, Tennessee  earthquake            0.68       0.51   \n",
       "4   3 km W of Ridgely, Tennessee  earthquake            0.15       0.30   \n",
       "\n",
       "   magError  magNst    status  locationSource magSource  \n",
       "0     0.092    31.0  reviewed              nm        nm  \n",
       "1     0.167    12.0  reviewed              nm        nm  \n",
       "2     0.147    21.0  reviewed              nm        nm  \n",
       "3     0.032    10.0  reviewed              nm        nm  \n",
       "4     0.142    34.0  reviewed              nm        nm  \n",
       "\n",
       "[5 rows x 22 columns]"
      ]
     },
     "execution_count": 20,
     "metadata": {},
     "output_type": "execute_result"
    }
   ],
   "source": [
    "usgs = pd.read_csv(StringIO(r.text))\n",
    "usgs.head()"
   ]
  },
  {
   "cell_type": "code",
   "execution_count": 21,
   "metadata": {},
   "outputs": [
    {
     "data": {
      "text/html": [
       "<div>\n",
       "<style scoped>\n",
       "    .dataframe tbody tr th:only-of-type {\n",
       "        vertical-align: middle;\n",
       "    }\n",
       "\n",
       "    .dataframe tbody tr th {\n",
       "        vertical-align: top;\n",
       "    }\n",
       "\n",
       "    .dataframe thead th {\n",
       "        text-align: right;\n",
       "    }\n",
       "</style>\n",
       "<table border=\"1\" class=\"dataframe\">\n",
       "  <thead>\n",
       "    <tr style=\"text-align: right;\">\n",
       "      <th></th>\n",
       "      <th>time</th>\n",
       "      <th>latitude</th>\n",
       "      <th>longitude</th>\n",
       "      <th>depth</th>\n",
       "      <th>mag</th>\n",
       "      <th>magType</th>\n",
       "      <th>nst</th>\n",
       "      <th>gap</th>\n",
       "      <th>dmin</th>\n",
       "      <th>rms</th>\n",
       "      <th>...</th>\n",
       "      <th>place</th>\n",
       "      <th>type</th>\n",
       "      <th>horizontalError</th>\n",
       "      <th>depthError</th>\n",
       "      <th>magError</th>\n",
       "      <th>magNst</th>\n",
       "      <th>status</th>\n",
       "      <th>locationSource</th>\n",
       "      <th>magSource</th>\n",
       "      <th>geometry</th>\n",
       "    </tr>\n",
       "  </thead>\n",
       "  <tbody>\n",
       "    <tr>\n",
       "      <th>0</th>\n",
       "      <td>2020-10-21T21:49:45.720Z</td>\n",
       "      <td>36.070500</td>\n",
       "      <td>-89.802333</td>\n",
       "      <td>6.84</td>\n",
       "      <td>2.14</td>\n",
       "      <td>md</td>\n",
       "      <td>46.0</td>\n",
       "      <td>40.0</td>\n",
       "      <td>0.06430</td>\n",
       "      <td>0.10</td>\n",
       "      <td>...</td>\n",
       "      <td>2 km NNE of Cooter, Missouri</td>\n",
       "      <td>earthquake</td>\n",
       "      <td>0.17</td>\n",
       "      <td>0.49</td>\n",
       "      <td>0.092</td>\n",
       "      <td>31.0</td>\n",
       "      <td>reviewed</td>\n",
       "      <td>nm</td>\n",
       "      <td>nm</td>\n",
       "      <td>POINT (-89.8023333 36.0705)</td>\n",
       "    </tr>\n",
       "    <tr>\n",
       "      <th>1</th>\n",
       "      <td>2020-10-21T20:28:42.930Z</td>\n",
       "      <td>36.525000</td>\n",
       "      <td>-89.569167</td>\n",
       "      <td>6.85</td>\n",
       "      <td>1.69</td>\n",
       "      <td>md</td>\n",
       "      <td>19.0</td>\n",
       "      <td>50.0</td>\n",
       "      <td>0.02596</td>\n",
       "      <td>0.03</td>\n",
       "      <td>...</td>\n",
       "      <td>3 km E of Marston, Missouri</td>\n",
       "      <td>earthquake</td>\n",
       "      <td>0.34</td>\n",
       "      <td>0.63</td>\n",
       "      <td>0.167</td>\n",
       "      <td>12.0</td>\n",
       "      <td>reviewed</td>\n",
       "      <td>nm</td>\n",
       "      <td>nm</td>\n",
       "      <td>POINT (-89.5691667 36.525)</td>\n",
       "    </tr>\n",
       "    <tr>\n",
       "      <th>2</th>\n",
       "      <td>2020-10-21T04:55:51.350Z</td>\n",
       "      <td>36.545667</td>\n",
       "      <td>-89.649000</td>\n",
       "      <td>8.01</td>\n",
       "      <td>1.61</td>\n",
       "      <td>md</td>\n",
       "      <td>24.0</td>\n",
       "      <td>44.0</td>\n",
       "      <td>0.02245</td>\n",
       "      <td>0.04</td>\n",
       "      <td>...</td>\n",
       "      <td>4 km NW of Marston, Missouri</td>\n",
       "      <td>earthquake</td>\n",
       "      <td>0.44</td>\n",
       "      <td>0.40</td>\n",
       "      <td>0.147</td>\n",
       "      <td>21.0</td>\n",
       "      <td>reviewed</td>\n",
       "      <td>nm</td>\n",
       "      <td>nm</td>\n",
       "      <td>POINT (-89.649 36.5456667)</td>\n",
       "    </tr>\n",
       "    <tr>\n",
       "      <th>3</th>\n",
       "      <td>2020-10-21T03:00:08.800Z</td>\n",
       "      <td>36.313667</td>\n",
       "      <td>-89.536167</td>\n",
       "      <td>9.50</td>\n",
       "      <td>1.23</td>\n",
       "      <td>md</td>\n",
       "      <td>17.0</td>\n",
       "      <td>65.0</td>\n",
       "      <td>0.02693</td>\n",
       "      <td>0.06</td>\n",
       "      <td>...</td>\n",
       "      <td>7 km NW of Ridgely, Tennessee</td>\n",
       "      <td>earthquake</td>\n",
       "      <td>0.68</td>\n",
       "      <td>0.51</td>\n",
       "      <td>0.032</td>\n",
       "      <td>10.0</td>\n",
       "      <td>reviewed</td>\n",
       "      <td>nm</td>\n",
       "      <td>nm</td>\n",
       "      <td>POINT (-89.5361667 36.3136667)</td>\n",
       "    </tr>\n",
       "    <tr>\n",
       "      <th>4</th>\n",
       "      <td>2020-10-20T18:50:21.800Z</td>\n",
       "      <td>36.267500</td>\n",
       "      <td>-89.523333</td>\n",
       "      <td>8.84</td>\n",
       "      <td>2.33</td>\n",
       "      <td>md</td>\n",
       "      <td>46.0</td>\n",
       "      <td>33.0</td>\n",
       "      <td>0.01520</td>\n",
       "      <td>0.11</td>\n",
       "      <td>...</td>\n",
       "      <td>3 km W of Ridgely, Tennessee</td>\n",
       "      <td>earthquake</td>\n",
       "      <td>0.15</td>\n",
       "      <td>0.30</td>\n",
       "      <td>0.142</td>\n",
       "      <td>34.0</td>\n",
       "      <td>reviewed</td>\n",
       "      <td>nm</td>\n",
       "      <td>nm</td>\n",
       "      <td>POINT (-89.5233333 36.2675)</td>\n",
       "    </tr>\n",
       "  </tbody>\n",
       "</table>\n",
       "<p>5 rows × 23 columns</p>\n",
       "</div>"
      ],
      "text/plain": [
       "                       time   latitude  longitude  depth   mag magType   nst  \\\n",
       "0  2020-10-21T21:49:45.720Z  36.070500 -89.802333   6.84  2.14      md  46.0   \n",
       "1  2020-10-21T20:28:42.930Z  36.525000 -89.569167   6.85  1.69      md  19.0   \n",
       "2  2020-10-21T04:55:51.350Z  36.545667 -89.649000   8.01  1.61      md  24.0   \n",
       "3  2020-10-21T03:00:08.800Z  36.313667 -89.536167   9.50  1.23      md  17.0   \n",
       "4  2020-10-20T18:50:21.800Z  36.267500 -89.523333   8.84  2.33      md  46.0   \n",
       "\n",
       "    gap     dmin   rms  ...                          place        type  \\\n",
       "0  40.0  0.06430  0.10  ...   2 km NNE of Cooter, Missouri  earthquake   \n",
       "1  50.0  0.02596  0.03  ...    3 km E of Marston, Missouri  earthquake   \n",
       "2  44.0  0.02245  0.04  ...   4 km NW of Marston, Missouri  earthquake   \n",
       "3  65.0  0.02693  0.06  ...  7 km NW of Ridgely, Tennessee  earthquake   \n",
       "4  33.0  0.01520  0.11  ...   3 km W of Ridgely, Tennessee  earthquake   \n",
       "\n",
       "  horizontalError depthError magError  magNst    status  locationSource  \\\n",
       "0            0.17       0.49    0.092    31.0  reviewed              nm   \n",
       "1            0.34       0.63    0.167    12.0  reviewed              nm   \n",
       "2            0.44       0.40    0.147    21.0  reviewed              nm   \n",
       "3            0.68       0.51    0.032    10.0  reviewed              nm   \n",
       "4            0.15       0.30    0.142    34.0  reviewed              nm   \n",
       "\n",
       "   magSource                        geometry  \n",
       "0         nm     POINT (-89.8023333 36.0705)  \n",
       "1         nm      POINT (-89.5691667 36.525)  \n",
       "2         nm      POINT (-89.649 36.5456667)  \n",
       "3         nm  POINT (-89.5361667 36.3136667)  \n",
       "4         nm     POINT (-89.5233333 36.2675)  \n",
       "\n",
       "[5 rows x 23 columns]"
      ]
     },
     "execution_count": 21,
     "metadata": {},
     "output_type": "execute_result"
    }
   ],
   "source": [
    "# Create a geometry column\n",
    "usgs['geometry'] = usgs.apply(lambda x: Point((float(x.longitude),\n",
    "                                            float(x.latitude))),\n",
    "                              axis = 1)\n",
    "usgs.head()"
   ]
  },
  {
   "cell_type": "code",
   "execution_count": null,
   "metadata": {
    "scrolled": true
   },
   "outputs": [],
   "source": [
    "# Subset to earthquakes that have happened within TN only, based on the place name\n",
    "# Not actually necessary if we're going to plot points based on lat/long\n",
    "# usgs_tn = usgs[usgs['place'].str.contains('(Tennessee)')]\n",
    "# usgs_tn.info()"
   ]
  },
  {
   "cell_type": "code",
   "execution_count": 22,
   "metadata": {},
   "outputs": [
    {
     "ename": "NameError",
     "evalue": "name 'tn_county_map' is not defined",
     "output_type": "error",
     "traceback": [
      "\u001b[1;31m---------------------------------------------------------------------------\u001b[0m",
      "\u001b[1;31mNameError\u001b[0m                                 Traceback (most recent call last)",
      "\u001b[1;32m<ipython-input-22-3346cdfafd0b>\u001b[0m in \u001b[0;36m<module>\u001b[1;34m\u001b[0m\n\u001b[0;32m      1\u001b[0m \u001b[1;31m# Turn the USGS dataframe into a Geo DataFrame\u001b[0m\u001b[1;33m\u001b[0m\u001b[1;33m\u001b[0m\u001b[1;33m\u001b[0m\u001b[0m\n\u001b[0;32m      2\u001b[0m usgs_geo = gpd.GeoDataFrame(usgs,\n\u001b[1;32m----> 3\u001b[1;33m                              \u001b[0mcrs\u001b[0m \u001b[1;33m=\u001b[0m \u001b[0mtn_county_map\u001b[0m\u001b[1;33m.\u001b[0m\u001b[0mcrs\u001b[0m\u001b[1;33m,\u001b[0m\u001b[1;33m\u001b[0m\u001b[1;33m\u001b[0m\u001b[0m\n\u001b[0m\u001b[0;32m      4\u001b[0m                              geometry = usgs['geometry'])\n",
      "\u001b[1;31mNameError\u001b[0m: name 'tn_county_map' is not defined"
     ]
    }
   ],
   "source": [
    "# Turn the USGS dataframe into a Geo DataFrame\n",
    "usgs_geo = gpd.GeoDataFrame(usgs,\n",
    "                             crs = tn_county_map.crs,\n",
    "                             geometry = usgs['geometry'])"
   ]
  },
  {
   "cell_type": "code",
   "execution_count": null,
   "metadata": {},
   "outputs": [],
   "source": [
    "# Join the USGS data to the TN basemap\n",
    "tn_earthquakes = gpd.sjoin(usgs_geo, tn_county_map, op = 'within')\n",
    "tn_earthquakes"
   ]
  },
  {
   "cell_type": "code",
   "execution_count": null,
   "metadata": {
    "scrolled": true
   },
   "outputs": [],
   "source": [
    "# Since 1900, how many earthquakes per county?\n",
    "tn_earthquakes['NAME'].value_counts()"
   ]
  },
  {
   "cell_type": "markdown",
   "metadata": {},
   "source": [
    "**Create a map of the state of TN with all of the earthquakes that have happened since 1900.**"
   ]
  },
  {
   "cell_type": "code",
   "execution_count": null,
   "metadata": {},
   "outputs": [],
   "source": [
    "# map the earthquakes\n",
    "ax = tn_county_map.plot(figsize = (8, 10), color = 'beige')\n",
    "tn_earthquakes.plot( ax = ax, column = 'NAME');\n",
    "plt.show();"
   ]
  },
  {
   "cell_type": "markdown",
   "metadata": {},
   "source": [
    "**Read in and clean up the census housing units by county for TN data.**"
   ]
  },
  {
   "cell_type": "code",
   "execution_count": null,
   "metadata": {},
   "outputs": [],
   "source": [
    "tn_housing_units_by_county = pd.read_csv('../data/us_census_tn_housing_units_by_county_2010-2019.csv')[2:99]"
   ]
  },
  {
   "cell_type": "code",
   "execution_count": null,
   "metadata": {},
   "outputs": [],
   "source": [
    "tn_housing_units_by_county.columns = tn_housing_units_by_county.iloc[0]\n",
    "tn_housing_units_by_county = tn_housing_units_by_county[2:99]"
   ]
  },
  {
   "cell_type": "code",
   "execution_count": null,
   "metadata": {},
   "outputs": [],
   "source": [
    "tn_housing_units_by_county.reset_index(drop = True)"
   ]
  },
  {
   "cell_type": "code",
   "execution_count": null,
   "metadata": {},
   "outputs": [],
   "source": [
    "tn_housing_units_by_county.columns"
   ]
  },
  {
   "cell_type": "code",
   "execution_count": null,
   "metadata": {},
   "outputs": [],
   "source": [
    "tn_housing_units_by_county = tn_housing_units_by_county.drop(['Estimates Base', '2010', '2011', '2012', '2013', '2014', '2015', '2016', '2017', '2018'], axis = 1)"
   ]
  },
  {
   "cell_type": "code",
   "execution_count": null,
   "metadata": {},
   "outputs": [],
   "source": [
    "tn_housing_units_by_county.columns = ['county', 'census', '2019']"
   ]
  },
  {
   "cell_type": "code",
   "execution_count": null,
   "metadata": {},
   "outputs": [],
   "source": [
    "tn_housing_units_by_county.reset_index(drop = True)"
   ]
  },
  {
   "cell_type": "code",
   "execution_count": null,
   "metadata": {},
   "outputs": [],
   "source": [
    "tn_housing_units_by_county['county'] = tn_housing_units_by_county['county'].str.extract(r'\\.(.*) County, Tennessee')\n",
    "tn_housing_units_by_county['county'] = tn_housing_units_by_county['county'].str.lower()"
   ]
  },
  {
   "cell_type": "code",
   "execution_count": null,
   "metadata": {},
   "outputs": [],
   "source": [
    "tn_housing_units_by_county"
   ]
  },
  {
   "cell_type": "markdown",
   "metadata": {},
   "source": [
    "**Read in the TN demographics data by county.**"
   ]
  },
  {
   "cell_type": "code",
   "execution_count": null,
   "metadata": {},
   "outputs": [],
   "source": [
    "tn_demo = pd.read_csv('../data/TN-county-demographics-2010.csv')"
   ]
  },
  {
   "cell_type": "code",
   "execution_count": null,
   "metadata": {},
   "outputs": [],
   "source": [
    "tn_demo"
   ]
  },
  {
   "cell_type": "code",
   "execution_count": null,
   "metadata": {},
   "outputs": [],
   "source": [
    "# lower case the county to avoid merge errors\n",
    "tn_demo['County'] = tn_demo['County'].str.lower()"
   ]
  },
  {
   "cell_type": "code",
   "execution_count": null,
   "metadata": {},
   "outputs": [],
   "source": [
    "# Join the demographics and housing data into one dataframe\n",
    "tn_housing_demo = tn_demo.merge(tn_housing_units_by_county, how = 'outer', left_on = 'County', right_on = 'county')\n",
    "tn_housing_demo"
   ]
  },
  {
   "cell_type": "code",
   "execution_count": null,
   "metadata": {},
   "outputs": [],
   "source": [
    "# Join in the demographic data to the TN earthquakes data\n",
    "tn_earthquakes_w_demo = tn_earthquakes.merge(tn_demo, left_on = 'NAME', right_on = 'County')\n",
    "# Check to make sure it is a full join\n",
    "tn_earthquakes_w_demo[tn_earthquakes_w_demo['Total Population'].isnull() == True]"
   ]
  },
  {
   "cell_type": "code",
   "execution_count": null,
   "metadata": {},
   "outputs": [],
   "source": [
    "tn_earthquakes_w_demo"
   ]
  },
  {
   "cell_type": "code",
   "execution_count": null,
   "metadata": {},
   "outputs": [],
   "source": []
  }
 ],
 "metadata": {
  "kernelspec": {
   "display_name": "Python 3",
   "language": "python",
   "name": "python3"
  },
  "language_info": {
   "codemirror_mode": {
    "name": "ipython",
    "version": 3
   },
   "file_extension": ".py",
   "mimetype": "text/x-python",
   "name": "python",
   "nbconvert_exporter": "python",
   "pygments_lexer": "ipython3",
   "version": "3.8.5"
  }
 },
 "nbformat": 4,
 "nbformat_minor": 4
}
