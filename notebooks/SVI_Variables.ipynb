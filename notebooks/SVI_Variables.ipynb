{
 "cells": [
  {
   "cell_type": "code",
   "execution_count": null,
   "metadata": {},
   "outputs": [],
   "source": [
    "# import statements\n",
    "import pandas as pd\n",
    "import numpy as np\n",
    "import requests\n"
   ]
  },
  {
   "cell_type": "code",
   "execution_count": null,
   "metadata": {},
   "outputs": [],
   "source": [
    "# display settings\n",
    "pd.set_option('display.max_rows', 500)\n",
    "pd.set_option('display.max_columns', 500)\n",
    "pd.set_option('display.width', 1000)"
   ]
  },
  {
   "cell_type": "code",
   "execution_count": null,
   "metadata": {},
   "outputs": [],
   "source": [
    "# Only read in the Social Vulnerability Index scores for the counties in TN\n",
    "svi = pd.read_csv('../data/TN-vulnerability-scores.csv', usecols=['COUNTY','AREA_SQMI','RPL_THEME1','RPL_THEME2','RPL_THEME3','RPL_THEME4','RPL_THEMES', 'EP_UNINSUR'])\n",
    "svi.head()"
   ]
  },
  {
   "cell_type": "code",
   "execution_count": null,
   "metadata": {},
   "outputs": [],
   "source": [
    "svi.info()"
   ]
  },
  {
   "cell_type": "code",
   "execution_count": null,
   "metadata": {},
   "outputs": [],
   "source": [
    "# rename the columns\n",
    "svi.columns = ['county', 'area_m2', 'socioeconomic', 'household_comp_and_disability', 'minority_status_and_language', 'housing_type_and_transportation', 'total_vulnerability', 'percent_uninsured']\n",
    "svi.info()"
   ]
  },
  {
   "cell_type": "markdown",
   "metadata": {},
   "source": [
    "Low numbers = low risk  \n",
    "High numbers = high risk  \n",
    "\n",
    "For fully aggregated data set (prioritize - #1):  \n",
    "* for every variable, does it follow the right pattern/direction?\n",
    "* reverse-coded: depth, GDP, GDP per capita (as neg)\n",
    "* depth (median and max)\n",
    "* magnitude (median and max)\n",
    "\n",
    "Generate histograms for each variable of interest; if skewed (probably pop, magnitude), create new column with np.log() to normalize it (prioritize - #3)\n",
    "\n",
    "Scikitlearn (for weighting) (prioritize - #2)\n",
    "\n",
    "Calculations\n",
    "* Cum H, Ex, V\n",
    "   * Average of each category (weighing every variable equally, regardless of how many components)\n",
    "* Cum H, Ex, V\n",
    "   * Sum of each category (biases towards areas with more data points)\n",
    "(Either way should go in the same direction)\n",
    "\n",
    "Plug in both cum calc into risk formulas for two columns\n",
    "risk_avg (also w/np.log() columns)\n",
    "risk_sum (also w/np.log() columns)\n",
    "\n",
    "Map risk_avg and risk_sum; throw into widget \n",
    "\n",
    "If not informative, do we want to double weights? Play around with formula to get a cleaner visualization to make a case for opportunities to invest"
   ]
  },
  {
   "cell_type": "code",
   "execution_count": null,
   "metadata": {},
   "outputs": [],
   "source": []
  }
 ],
 "metadata": {
  "kernelspec": {
   "display_name": "Python 3",
   "language": "python",
   "name": "python3"
  },
  "language_info": {
   "codemirror_mode": {
    "name": "ipython",
    "version": 3
   },
   "file_extension": ".py",
   "mimetype": "text/x-python",
   "name": "python",
   "nbconvert_exporter": "python",
   "pygments_lexer": "ipython3",
   "version": "3.8.3"
  }
 },
 "nbformat": 4,
 "nbformat_minor": 4
}
