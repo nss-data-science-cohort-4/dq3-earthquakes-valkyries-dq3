{
 "cells": [
  {
   "cell_type": "code",
   "execution_count": 1,
   "metadata": {},
   "outputs": [],
   "source": [
    "# import statements\n",
    "import pandas as pd\n",
    "import numpy as np\n",
    "from io import StringIO\n",
    "from sklearn.preprocessing import StandardScaler\n",
    "import matplotlib.pyplot as plt"
   ]
  },
  {
   "cell_type": "code",
   "execution_count": 2,
   "metadata": {},
   "outputs": [],
   "source": [
    "# display settings\n",
    "pd.set_option('display.max_rows', 500)\n",
    "pd.set_option('display.max_columns', 500)\n",
    "pd.set_option('display.width', 1000)"
   ]
  },
  {
   "cell_type": "code",
   "execution_count": 3,
   "metadata": {},
   "outputs": [
    {
     "ename": "FileNotFoundError",
     "evalue": "[Errno 2] File ../data/TN_aggregated_data.csv does not exist: '../data/TN_aggregated_data.csv'",
     "output_type": "error",
     "traceback": [
      "\u001b[1;31m---------------------------------------------------------------------------\u001b[0m",
      "\u001b[1;31mFileNotFoundError\u001b[0m                         Traceback (most recent call last)",
      "\u001b[1;32m<ipython-input-3-c395d5823754>\u001b[0m in \u001b[0;36m<module>\u001b[1;34m\u001b[0m\n\u001b[0;32m      1\u001b[0m \u001b[1;31m# Read in our beautiful TN non-spatial dataset\u001b[0m\u001b[1;33m\u001b[0m\u001b[1;33m\u001b[0m\u001b[1;33m\u001b[0m\u001b[0m\n\u001b[1;32m----> 2\u001b[1;33m \u001b[0mtn_data\u001b[0m \u001b[1;33m=\u001b[0m \u001b[0mpd\u001b[0m\u001b[1;33m.\u001b[0m\u001b[0mread_csv\u001b[0m\u001b[1;33m(\u001b[0m\u001b[1;34m'../data/TN_aggregated_data.csv'\u001b[0m\u001b[1;33m,\u001b[0m \u001b[0mindex_col\u001b[0m\u001b[1;33m=\u001b[0m\u001b[1;33m[\u001b[0m\u001b[1;36m0\u001b[0m\u001b[1;33m]\u001b[0m\u001b[1;33m)\u001b[0m\u001b[1;33m\u001b[0m\u001b[1;33m\u001b[0m\u001b[0m\n\u001b[0m\u001b[0;32m      3\u001b[0m \u001b[0mtn_data\u001b[0m\u001b[1;33m.\u001b[0m\u001b[0mhead\u001b[0m\u001b[1;33m(\u001b[0m\u001b[1;33m)\u001b[0m\u001b[1;33m\u001b[0m\u001b[1;33m\u001b[0m\u001b[0m\n",
      "\u001b[1;32m~\\anaconda3\\lib\\site-packages\\pandas\\io\\parsers.py\u001b[0m in \u001b[0;36mparser_f\u001b[1;34m(filepath_or_buffer, sep, delimiter, header, names, index_col, usecols, squeeze, prefix, mangle_dupe_cols, dtype, engine, converters, true_values, false_values, skipinitialspace, skiprows, skipfooter, nrows, na_values, keep_default_na, na_filter, verbose, skip_blank_lines, parse_dates, infer_datetime_format, keep_date_col, date_parser, dayfirst, cache_dates, iterator, chunksize, compression, thousands, decimal, lineterminator, quotechar, quoting, doublequote, escapechar, comment, encoding, dialect, error_bad_lines, warn_bad_lines, delim_whitespace, low_memory, memory_map, float_precision)\u001b[0m\n\u001b[0;32m    674\u001b[0m         )\n\u001b[0;32m    675\u001b[0m \u001b[1;33m\u001b[0m\u001b[0m\n\u001b[1;32m--> 676\u001b[1;33m         \u001b[1;32mreturn\u001b[0m \u001b[0m_read\u001b[0m\u001b[1;33m(\u001b[0m\u001b[0mfilepath_or_buffer\u001b[0m\u001b[1;33m,\u001b[0m \u001b[0mkwds\u001b[0m\u001b[1;33m)\u001b[0m\u001b[1;33m\u001b[0m\u001b[1;33m\u001b[0m\u001b[0m\n\u001b[0m\u001b[0;32m    677\u001b[0m \u001b[1;33m\u001b[0m\u001b[0m\n\u001b[0;32m    678\u001b[0m     \u001b[0mparser_f\u001b[0m\u001b[1;33m.\u001b[0m\u001b[0m__name__\u001b[0m \u001b[1;33m=\u001b[0m \u001b[0mname\u001b[0m\u001b[1;33m\u001b[0m\u001b[1;33m\u001b[0m\u001b[0m\n",
      "\u001b[1;32m~\\anaconda3\\lib\\site-packages\\pandas\\io\\parsers.py\u001b[0m in \u001b[0;36m_read\u001b[1;34m(filepath_or_buffer, kwds)\u001b[0m\n\u001b[0;32m    446\u001b[0m \u001b[1;33m\u001b[0m\u001b[0m\n\u001b[0;32m    447\u001b[0m     \u001b[1;31m# Create the parser.\u001b[0m\u001b[1;33m\u001b[0m\u001b[1;33m\u001b[0m\u001b[1;33m\u001b[0m\u001b[0m\n\u001b[1;32m--> 448\u001b[1;33m     \u001b[0mparser\u001b[0m \u001b[1;33m=\u001b[0m \u001b[0mTextFileReader\u001b[0m\u001b[1;33m(\u001b[0m\u001b[0mfp_or_buf\u001b[0m\u001b[1;33m,\u001b[0m \u001b[1;33m**\u001b[0m\u001b[0mkwds\u001b[0m\u001b[1;33m)\u001b[0m\u001b[1;33m\u001b[0m\u001b[1;33m\u001b[0m\u001b[0m\n\u001b[0m\u001b[0;32m    449\u001b[0m \u001b[1;33m\u001b[0m\u001b[0m\n\u001b[0;32m    450\u001b[0m     \u001b[1;32mif\u001b[0m \u001b[0mchunksize\u001b[0m \u001b[1;32mor\u001b[0m \u001b[0miterator\u001b[0m\u001b[1;33m:\u001b[0m\u001b[1;33m\u001b[0m\u001b[1;33m\u001b[0m\u001b[0m\n",
      "\u001b[1;32m~\\anaconda3\\lib\\site-packages\\pandas\\io\\parsers.py\u001b[0m in \u001b[0;36m__init__\u001b[1;34m(self, f, engine, **kwds)\u001b[0m\n\u001b[0;32m    878\u001b[0m             \u001b[0mself\u001b[0m\u001b[1;33m.\u001b[0m\u001b[0moptions\u001b[0m\u001b[1;33m[\u001b[0m\u001b[1;34m\"has_index_names\"\u001b[0m\u001b[1;33m]\u001b[0m \u001b[1;33m=\u001b[0m \u001b[0mkwds\u001b[0m\u001b[1;33m[\u001b[0m\u001b[1;34m\"has_index_names\"\u001b[0m\u001b[1;33m]\u001b[0m\u001b[1;33m\u001b[0m\u001b[1;33m\u001b[0m\u001b[0m\n\u001b[0;32m    879\u001b[0m \u001b[1;33m\u001b[0m\u001b[0m\n\u001b[1;32m--> 880\u001b[1;33m         \u001b[0mself\u001b[0m\u001b[1;33m.\u001b[0m\u001b[0m_make_engine\u001b[0m\u001b[1;33m(\u001b[0m\u001b[0mself\u001b[0m\u001b[1;33m.\u001b[0m\u001b[0mengine\u001b[0m\u001b[1;33m)\u001b[0m\u001b[1;33m\u001b[0m\u001b[1;33m\u001b[0m\u001b[0m\n\u001b[0m\u001b[0;32m    881\u001b[0m \u001b[1;33m\u001b[0m\u001b[0m\n\u001b[0;32m    882\u001b[0m     \u001b[1;32mdef\u001b[0m \u001b[0mclose\u001b[0m\u001b[1;33m(\u001b[0m\u001b[0mself\u001b[0m\u001b[1;33m)\u001b[0m\u001b[1;33m:\u001b[0m\u001b[1;33m\u001b[0m\u001b[1;33m\u001b[0m\u001b[0m\n",
      "\u001b[1;32m~\\anaconda3\\lib\\site-packages\\pandas\\io\\parsers.py\u001b[0m in \u001b[0;36m_make_engine\u001b[1;34m(self, engine)\u001b[0m\n\u001b[0;32m   1112\u001b[0m     \u001b[1;32mdef\u001b[0m \u001b[0m_make_engine\u001b[0m\u001b[1;33m(\u001b[0m\u001b[0mself\u001b[0m\u001b[1;33m,\u001b[0m \u001b[0mengine\u001b[0m\u001b[1;33m=\u001b[0m\u001b[1;34m\"c\"\u001b[0m\u001b[1;33m)\u001b[0m\u001b[1;33m:\u001b[0m\u001b[1;33m\u001b[0m\u001b[1;33m\u001b[0m\u001b[0m\n\u001b[0;32m   1113\u001b[0m         \u001b[1;32mif\u001b[0m \u001b[0mengine\u001b[0m \u001b[1;33m==\u001b[0m \u001b[1;34m\"c\"\u001b[0m\u001b[1;33m:\u001b[0m\u001b[1;33m\u001b[0m\u001b[1;33m\u001b[0m\u001b[0m\n\u001b[1;32m-> 1114\u001b[1;33m             \u001b[0mself\u001b[0m\u001b[1;33m.\u001b[0m\u001b[0m_engine\u001b[0m \u001b[1;33m=\u001b[0m \u001b[0mCParserWrapper\u001b[0m\u001b[1;33m(\u001b[0m\u001b[0mself\u001b[0m\u001b[1;33m.\u001b[0m\u001b[0mf\u001b[0m\u001b[1;33m,\u001b[0m \u001b[1;33m**\u001b[0m\u001b[0mself\u001b[0m\u001b[1;33m.\u001b[0m\u001b[0moptions\u001b[0m\u001b[1;33m)\u001b[0m\u001b[1;33m\u001b[0m\u001b[1;33m\u001b[0m\u001b[0m\n\u001b[0m\u001b[0;32m   1115\u001b[0m         \u001b[1;32melse\u001b[0m\u001b[1;33m:\u001b[0m\u001b[1;33m\u001b[0m\u001b[1;33m\u001b[0m\u001b[0m\n\u001b[0;32m   1116\u001b[0m             \u001b[1;32mif\u001b[0m \u001b[0mengine\u001b[0m \u001b[1;33m==\u001b[0m \u001b[1;34m\"python\"\u001b[0m\u001b[1;33m:\u001b[0m\u001b[1;33m\u001b[0m\u001b[1;33m\u001b[0m\u001b[0m\n",
      "\u001b[1;32m~\\anaconda3\\lib\\site-packages\\pandas\\io\\parsers.py\u001b[0m in \u001b[0;36m__init__\u001b[1;34m(self, src, **kwds)\u001b[0m\n\u001b[0;32m   1889\u001b[0m         \u001b[0mkwds\u001b[0m\u001b[1;33m[\u001b[0m\u001b[1;34m\"usecols\"\u001b[0m\u001b[1;33m]\u001b[0m \u001b[1;33m=\u001b[0m \u001b[0mself\u001b[0m\u001b[1;33m.\u001b[0m\u001b[0musecols\u001b[0m\u001b[1;33m\u001b[0m\u001b[1;33m\u001b[0m\u001b[0m\n\u001b[0;32m   1890\u001b[0m \u001b[1;33m\u001b[0m\u001b[0m\n\u001b[1;32m-> 1891\u001b[1;33m         \u001b[0mself\u001b[0m\u001b[1;33m.\u001b[0m\u001b[0m_reader\u001b[0m \u001b[1;33m=\u001b[0m \u001b[0mparsers\u001b[0m\u001b[1;33m.\u001b[0m\u001b[0mTextReader\u001b[0m\u001b[1;33m(\u001b[0m\u001b[0msrc\u001b[0m\u001b[1;33m,\u001b[0m \u001b[1;33m**\u001b[0m\u001b[0mkwds\u001b[0m\u001b[1;33m)\u001b[0m\u001b[1;33m\u001b[0m\u001b[1;33m\u001b[0m\u001b[0m\n\u001b[0m\u001b[0;32m   1892\u001b[0m         \u001b[0mself\u001b[0m\u001b[1;33m.\u001b[0m\u001b[0munnamed_cols\u001b[0m \u001b[1;33m=\u001b[0m \u001b[0mself\u001b[0m\u001b[1;33m.\u001b[0m\u001b[0m_reader\u001b[0m\u001b[1;33m.\u001b[0m\u001b[0munnamed_cols\u001b[0m\u001b[1;33m\u001b[0m\u001b[1;33m\u001b[0m\u001b[0m\n\u001b[0;32m   1893\u001b[0m \u001b[1;33m\u001b[0m\u001b[0m\n",
      "\u001b[1;32mpandas\\_libs\\parsers.pyx\u001b[0m in \u001b[0;36mpandas._libs.parsers.TextReader.__cinit__\u001b[1;34m()\u001b[0m\n",
      "\u001b[1;32mpandas\\_libs\\parsers.pyx\u001b[0m in \u001b[0;36mpandas._libs.parsers.TextReader._setup_parser_source\u001b[1;34m()\u001b[0m\n",
      "\u001b[1;31mFileNotFoundError\u001b[0m: [Errno 2] File ../data/TN_aggregated_data.csv does not exist: '../data/TN_aggregated_data.csv'"
     ]
    }
   ],
   "source": [
    "# Read in our beautiful TN non-spatial dataset\n",
    "tn_data = pd.read_csv('../data/TN_aggregated_data.csv', index_col=[0])\n",
    "tn_data.head()"
   ]
  },
  {
   "cell_type": "code",
   "execution_count": null,
   "metadata": {},
   "outputs": [],
   "source": [
    "tn_data.info()"
   ]
  },
  {
   "cell_type": "markdown",
   "metadata": {},
   "source": [
    "## Step 1. Identify numeric variables of interest that need to be \"reverse-coded\"  \n",
    "\n",
    "LOWER NUMBERS = LOWER RISK/VULNERABILITY\n",
    "HIGHER NUMBERS = HIGHER RISK/VULNERABILITY  \n",
    "\n",
    "#### Variables that need to be created:  \n",
    "tn_data['pop_density'] = tn_data['population_est'] / tn_data['area_miles2']   \n",
    "\n",
    "tn_data['pct_edu_HSgrad'] = tn_data['edu_HSgrad'] / tn_data['population_est']   **percent w/edu above less than HS**  \n",
    "tn_data['pct_edu_assoc'] = tn_data['edu_assoc'] / tn_data['population_est']  \n",
    "tn_data['pct_edu_min_bac'] = tn_data['edu_min_bac'] / tn_data['population_est']  \n",
    "\n",
    "**calculate the percentile rank for remaining edu variables; .rank(pct = True) ranks each county on a scale from 0 (lowest %) to 1 (highest %); after creating, these need to be flipped for analyses so that high values = high vulnerability**  \n",
    "tn_data['pctrnk_edu_HSgrad'] = tn_data.pct_edu_HSgrad.rank(pct = True)    \n",
    "tn_data['pctrnk_edu_assoc'] = tn_data.pct_edu_assoc.rank(pct = True)      \n",
    "tn_data['pctrnk_edu_min_bac'] = tn_data.pct_edu_min_bac.rank(pct = True)    \n",
    "\n",
    "**perform the same function as above for poverty bands using the variables below**  \n",
    "tot_w_poverty_lvl_data  \n",
    "tot_poverty_138_399  \n",
    "tot_poverty_400_up \n",
    "\n",
    "#### Variables that need to be retrieved:\n",
    "\n",
    "\n",
    "#### Variables that need to be \"reverse-coded\" (made negative):  \n",
    "tn_data['pctrnk_edu_HSgrad']   \n",
    "tn_data['pctrnk_edu_assoc']   \n",
    "tn_data['pctrnk_edu_min_bac']   \n",
    "tot_poverty_138_399  (as pct rank)  \n",
    "tot_poverty_400_up  (as pct rank)  \n",
    "gdp_2018  **(higher values should mean lower risk)**  \n",
    "gdp_per_cap_2018  \n",
    "depth_mean  **(lower values should mean higher risk)**  \n",
    "depth_median  \n",
    "depth_min\n",
    "\n",
    "#### Variables going in the correct direction:  \n",
    "**[higher number = higher risk]**  \n",
    "total_housing_units_2019   \n",
    "population_est    \n",
    "socioeconomic  \n",
    "household_comp_and_disability  \n",
    "minority_status_and_language  \n",
    "housing_type_and_transportation  \n",
    "total_vulnerability  \n",
    "pct_uninsured  \n",
    "mag_mean  \n",
    "mag_median  \n",
    "mag_max  \n",
    "num_earthquakes  \n",
    "pct_prob_100y_median  \n",
    "pct_prob_100y_max  \n",
    "\n",
    "**[lower number = lower risk]**\n",
    "we don't have any variables that fall into this category\n",
    "\n",
    "#### Variables that will not be used in risk calculation equation (because they are already part of SVI or other components):  \n",
    "*pct_children_under_18  \n",
    "pct_people_of_color    \n",
    "pct_people_with_disabilities    \n",
    "pct_senior_citizens  \n",
    "pct_insured    **(use pct_uninsured instead)**  \n",
    "race_afam  \n",
    "race_asam  \n",
    "race_latn  \n",
    "race_natam  \n",
    "race_paci  \n",
    "race_white  \n",
    "race_othr  \n",
    "race_multi  \n",
    "disability_y  \n",
    "disability_n \n",
    "edu_lessHS  \n",
    "edu_HSgrad  \n",
    "edu_assoc  \n",
    "edu_min_bac  \n",
    "employed_est  \n",
    "unemployed_est  \n",
    "pct_people_living_in_rural_areas    **(leaving off because population density will be more useful for risk calc)**  \n",
    "tot_poverty_less100    **(already present in SES data)**  \n",
    "tot_poverty_101_138  "
   ]
  },
  {
   "cell_type": "code",
   "execution_count": 4,
   "metadata": {},
   "outputs": [
    {
     "ename": "NameError",
     "evalue": "name 'tn_data' is not defined",
     "output_type": "error",
     "traceback": [
      "\u001b[1;31m---------------------------------------------------------------------------\u001b[0m",
      "\u001b[1;31mNameError\u001b[0m                                 Traceback (most recent call last)",
      "\u001b[1;32m<ipython-input-4-92dd7854675b>\u001b[0m in \u001b[0;36m<module>\u001b[1;34m\u001b[0m\n\u001b[0;32m      1\u001b[0m \u001b[1;31m# create variables that need to be created\u001b[0m\u001b[1;33m\u001b[0m\u001b[1;33m\u001b[0m\u001b[1;33m\u001b[0m\u001b[0m\n\u001b[1;32m----> 2\u001b[1;33m \u001b[0mtn_data\u001b[0m\u001b[1;33m[\u001b[0m\u001b[1;34m'pop_density'\u001b[0m\u001b[1;33m]\u001b[0m \u001b[1;33m=\u001b[0m \u001b[0mtn_data\u001b[0m\u001b[1;33m[\u001b[0m\u001b[1;34m'population_est'\u001b[0m\u001b[1;33m]\u001b[0m \u001b[1;33m/\u001b[0m \u001b[0mtn_data\u001b[0m\u001b[1;33m[\u001b[0m\u001b[1;34m'area_miles2'\u001b[0m\u001b[1;33m]\u001b[0m\u001b[1;33m\u001b[0m\u001b[1;33m\u001b[0m\u001b[0m\n\u001b[0m",
      "\u001b[1;31mNameError\u001b[0m: name 'tn_data' is not defined"
     ]
    }
   ],
   "source": [
    "# create variables that need to be created\n",
    "tn_data['pop_density'] = tn_data['population_est'] / tn_data['area_miles2']"
   ]
  },
  {
   "cell_type": "code",
   "execution_count": 5,
   "metadata": {},
   "outputs": [],
   "source": [
    "# # get percent rank in default order so that higher percentages correspond with higher risk rankings\n",
    "# tn_data['pctrnk_edu_HSgrad'] = tn_data.pct_edu_HSgrad.rank(pct = True)    \n",
    "# tn_data['pctrnk_edu_assoc'] = tn_data.pct_edu_assoc.rank(pct = True)      \n",
    "# tn_data['pctrnk_edu_min_bac'] = tn_data.pct_edu_min_bac.rank(pct = True)"
   ]
  },
  {
   "cell_type": "code",
   "execution_count": 6,
   "metadata": {},
   "outputs": [],
   "source": [
    "# # check output\n",
    "# tn_data.head()"
   ]
  },
  {
   "cell_type": "code",
   "execution_count": 7,
   "metadata": {},
   "outputs": [
    {
     "ename": "NameError",
     "evalue": "name 'tn_data' is not defined",
     "output_type": "error",
     "traceback": [
      "\u001b[1;31m---------------------------------------------------------------------------\u001b[0m",
      "\u001b[1;31mNameError\u001b[0m                                 Traceback (most recent call last)",
      "\u001b[1;32m<ipython-input-7-c83e080fda6f>\u001b[0m in \u001b[0;36m<module>\u001b[1;34m\u001b[0m\n\u001b[0;32m      1\u001b[0m \u001b[1;31m# get percent rank in reverse so that higher percentages correspond with lower risk rankings\u001b[0m\u001b[1;33m\u001b[0m\u001b[1;33m\u001b[0m\u001b[1;33m\u001b[0m\u001b[0m\n\u001b[1;32m----> 2\u001b[1;33m \u001b[0mtn_data\u001b[0m\u001b[1;33m[\u001b[0m\u001b[1;34m'pct_edu_HSgrad'\u001b[0m\u001b[1;33m]\u001b[0m \u001b[1;33m=\u001b[0m \u001b[0mtn_data\u001b[0m\u001b[1;33m[\u001b[0m\u001b[1;34m'edu_HSgrad'\u001b[0m\u001b[1;33m]\u001b[0m \u001b[1;33m/\u001b[0m \u001b[0mtn_data\u001b[0m\u001b[1;33m[\u001b[0m\u001b[1;34m'population_est'\u001b[0m\u001b[1;33m]\u001b[0m\u001b[1;33m\u001b[0m\u001b[1;33m\u001b[0m\u001b[0m\n\u001b[0m\u001b[0;32m      3\u001b[0m \u001b[0mtn_data\u001b[0m\u001b[1;33m[\u001b[0m\u001b[1;34m'pctrnk_edu_HSgrad'\u001b[0m\u001b[1;33m]\u001b[0m \u001b[1;33m=\u001b[0m \u001b[0mtn_data\u001b[0m\u001b[1;33m.\u001b[0m\u001b[0mpct_edu_HSgrad\u001b[0m\u001b[1;33m.\u001b[0m\u001b[0mrank\u001b[0m\u001b[1;33m(\u001b[0m\u001b[0mpct\u001b[0m \u001b[1;33m=\u001b[0m \u001b[1;32mTrue\u001b[0m\u001b[1;33m,\u001b[0m \u001b[0mascending\u001b[0m \u001b[1;33m=\u001b[0m \u001b[1;32mFalse\u001b[0m\u001b[1;33m)\u001b[0m\u001b[1;33m\u001b[0m\u001b[1;33m\u001b[0m\u001b[0m\n\u001b[0;32m      4\u001b[0m \u001b[1;33m\u001b[0m\u001b[0m\n\u001b[0;32m      5\u001b[0m \u001b[0mtn_data\u001b[0m\u001b[1;33m[\u001b[0m\u001b[1;34m'pct_edu_assoc'\u001b[0m\u001b[1;33m]\u001b[0m \u001b[1;33m=\u001b[0m \u001b[0mtn_data\u001b[0m\u001b[1;33m[\u001b[0m\u001b[1;34m'edu_assoc'\u001b[0m\u001b[1;33m]\u001b[0m \u001b[1;33m/\u001b[0m \u001b[0mtn_data\u001b[0m\u001b[1;33m[\u001b[0m\u001b[1;34m'population_est'\u001b[0m\u001b[1;33m]\u001b[0m\u001b[1;33m\u001b[0m\u001b[1;33m\u001b[0m\u001b[0m\n",
      "\u001b[1;31mNameError\u001b[0m: name 'tn_data' is not defined"
     ]
    }
   ],
   "source": [
    "# get percent rank in reverse so that higher percentages correspond with lower risk rankings\n",
    "tn_data['pct_edu_HSgrad'] = tn_data['edu_HSgrad'] / tn_data['population_est']   \n",
    "tn_data['pctrnk_edu_HSgrad'] = tn_data.pct_edu_HSgrad.rank(pct = True, ascending = False)\n",
    "\n",
    "tn_data['pct_edu_assoc'] = tn_data['edu_assoc'] / tn_data['population_est']\n",
    "tn_data['pctrnk_edu_assoc'] = tn_data.pct_edu_assoc.rank(pct = True, ascending = False)\n",
    "\n",
    "tn_data['pct_edu_min_bac'] = tn_data['edu_min_bac'] / tn_data['population_est']\n",
    "tn_data['pctrnk_edu_min_bac'] = tn_data.pct_edu_min_bac.rank(pct = True, ascending = False)"
   ]
  },
  {
   "cell_type": "code",
   "execution_count": 8,
   "metadata": {},
   "outputs": [
    {
     "ename": "NameError",
     "evalue": "name 'tn_data' is not defined",
     "output_type": "error",
     "traceback": [
      "\u001b[1;31m---------------------------------------------------------------------------\u001b[0m",
      "\u001b[1;31mNameError\u001b[0m                                 Traceback (most recent call last)",
      "\u001b[1;32m<ipython-input-8-671d3e83b923>\u001b[0m in \u001b[0;36m<module>\u001b[1;34m\u001b[0m\n\u001b[0;32m      1\u001b[0m \u001b[1;31m# check output\u001b[0m\u001b[1;33m\u001b[0m\u001b[1;33m\u001b[0m\u001b[1;33m\u001b[0m\u001b[0m\n\u001b[1;32m----> 2\u001b[1;33m \u001b[0mtn_data\u001b[0m\u001b[1;33m.\u001b[0m\u001b[0mhead\u001b[0m\u001b[1;33m(\u001b[0m\u001b[1;33m)\u001b[0m\u001b[1;33m\u001b[0m\u001b[1;33m\u001b[0m\u001b[0m\n\u001b[0m",
      "\u001b[1;31mNameError\u001b[0m: name 'tn_data' is not defined"
     ]
    }
   ],
   "source": [
    "# check output\n",
    "tn_data.head()"
   ]
  },
  {
   "cell_type": "code",
   "execution_count": 9,
   "metadata": {},
   "outputs": [
    {
     "ename": "NameError",
     "evalue": "name 'tn_data' is not defined",
     "output_type": "error",
     "traceback": [
      "\u001b[1;31m---------------------------------------------------------------------------\u001b[0m",
      "\u001b[1;31mNameError\u001b[0m                                 Traceback (most recent call last)",
      "\u001b[1;32m<ipython-input-9-bced826df805>\u001b[0m in \u001b[0;36m<module>\u001b[1;34m\u001b[0m\n\u001b[0;32m      1\u001b[0m \u001b[1;31m# get percent rank in reverse so that higher percentages correspond with lower risk rankings\u001b[0m\u001b[1;33m\u001b[0m\u001b[1;33m\u001b[0m\u001b[1;33m\u001b[0m\u001b[0m\n\u001b[1;32m----> 2\u001b[1;33m \u001b[0mtn_data\u001b[0m\u001b[1;33m[\u001b[0m\u001b[1;34m'pct_poverty_138_399'\u001b[0m\u001b[1;33m]\u001b[0m \u001b[1;33m=\u001b[0m \u001b[0mtn_data\u001b[0m\u001b[1;33m[\u001b[0m\u001b[1;34m'tot_poverty_138_399'\u001b[0m\u001b[1;33m]\u001b[0m \u001b[1;33m/\u001b[0m \u001b[0mtn_data\u001b[0m\u001b[1;33m[\u001b[0m\u001b[1;34m'tot_w_poverty_lvl_data'\u001b[0m\u001b[1;33m]\u001b[0m\u001b[1;33m\u001b[0m\u001b[1;33m\u001b[0m\u001b[0m\n\u001b[0m\u001b[0;32m      3\u001b[0m \u001b[0mtn_data\u001b[0m\u001b[1;33m[\u001b[0m\u001b[1;34m'pctrnk_poverty_138_399'\u001b[0m\u001b[1;33m]\u001b[0m \u001b[1;33m=\u001b[0m \u001b[0mtn_data\u001b[0m\u001b[1;33m.\u001b[0m\u001b[0mpct_poverty_138_399\u001b[0m\u001b[1;33m.\u001b[0m\u001b[0mrank\u001b[0m\u001b[1;33m(\u001b[0m\u001b[0mpct\u001b[0m \u001b[1;33m=\u001b[0m \u001b[1;32mTrue\u001b[0m\u001b[1;33m,\u001b[0m \u001b[0mascending\u001b[0m \u001b[1;33m=\u001b[0m \u001b[1;32mFalse\u001b[0m\u001b[1;33m)\u001b[0m\u001b[1;33m\u001b[0m\u001b[1;33m\u001b[0m\u001b[0m\n\u001b[0;32m      4\u001b[0m \u001b[1;33m\u001b[0m\u001b[0m\n\u001b[0;32m      5\u001b[0m \u001b[0mtn_data\u001b[0m\u001b[1;33m[\u001b[0m\u001b[1;34m'pct_poverty_400_up'\u001b[0m\u001b[1;33m]\u001b[0m \u001b[1;33m=\u001b[0m \u001b[0mtn_data\u001b[0m\u001b[1;33m[\u001b[0m\u001b[1;34m'tot_poverty_400_up'\u001b[0m\u001b[1;33m]\u001b[0m \u001b[1;33m/\u001b[0m \u001b[0mtn_data\u001b[0m\u001b[1;33m[\u001b[0m\u001b[1;34m'tot_w_poverty_lvl_data'\u001b[0m\u001b[1;33m]\u001b[0m\u001b[1;33m\u001b[0m\u001b[1;33m\u001b[0m\u001b[0m\n",
      "\u001b[1;31mNameError\u001b[0m: name 'tn_data' is not defined"
     ]
    }
   ],
   "source": [
    "# get percent rank in reverse so that higher percentages correspond with lower risk rankings\n",
    "tn_data['pct_poverty_138_399'] = tn_data['tot_poverty_138_399'] / tn_data['tot_w_poverty_lvl_data']\n",
    "tn_data['pctrnk_poverty_138_399'] = tn_data.pct_poverty_138_399.rank(pct = True, ascending = False)\n",
    "\n",
    "tn_data['pct_poverty_400_up'] = tn_data['tot_poverty_400_up'] / tn_data['tot_w_poverty_lvl_data']\n",
    "tn_data['pctrnk_poverty_400_up'] = tn_data.pct_poverty_400_up.rank(pct = True, ascending = False)"
   ]
  },
  {
   "cell_type": "code",
   "execution_count": 10,
   "metadata": {},
   "outputs": [
    {
     "ename": "NameError",
     "evalue": "name 'tn_data' is not defined",
     "output_type": "error",
     "traceback": [
      "\u001b[1;31m---------------------------------------------------------------------------\u001b[0m",
      "\u001b[1;31mNameError\u001b[0m                                 Traceback (most recent call last)",
      "\u001b[1;32m<ipython-input-10-44d922251000>\u001b[0m in \u001b[0;36m<module>\u001b[1;34m\u001b[0m\n\u001b[0;32m      1\u001b[0m \u001b[1;31m# get percent rank in reverse so that higher values correspond with lower risk rankings\u001b[0m\u001b[1;33m\u001b[0m\u001b[1;33m\u001b[0m\u001b[1;33m\u001b[0m\u001b[0m\n\u001b[1;32m----> 2\u001b[1;33m \u001b[0mtn_data\u001b[0m\u001b[1;33m[\u001b[0m\u001b[1;34m'pctrnk_gdp_2018'\u001b[0m\u001b[1;33m]\u001b[0m \u001b[1;33m=\u001b[0m \u001b[0mtn_data\u001b[0m\u001b[1;33m.\u001b[0m\u001b[0mgdp_2018\u001b[0m\u001b[1;33m.\u001b[0m\u001b[0mrank\u001b[0m\u001b[1;33m(\u001b[0m\u001b[0mpct\u001b[0m \u001b[1;33m=\u001b[0m \u001b[1;32mTrue\u001b[0m\u001b[1;33m,\u001b[0m \u001b[0mascending\u001b[0m \u001b[1;33m=\u001b[0m \u001b[1;32mFalse\u001b[0m\u001b[1;33m)\u001b[0m\u001b[1;33m\u001b[0m\u001b[1;33m\u001b[0m\u001b[0m\n\u001b[0m\u001b[0;32m      3\u001b[0m \u001b[0mtn_data\u001b[0m\u001b[1;33m[\u001b[0m\u001b[1;34m'pctrnk_gdp_per_cap_2018'\u001b[0m\u001b[1;33m]\u001b[0m \u001b[1;33m=\u001b[0m \u001b[0mtn_data\u001b[0m\u001b[1;33m.\u001b[0m\u001b[0mgdp_per_cap_2018\u001b[0m\u001b[1;33m.\u001b[0m\u001b[0mrank\u001b[0m\u001b[1;33m(\u001b[0m\u001b[0mpct\u001b[0m \u001b[1;33m=\u001b[0m \u001b[1;32mTrue\u001b[0m\u001b[1;33m,\u001b[0m \u001b[0mascending\u001b[0m \u001b[1;33m=\u001b[0m \u001b[1;32mFalse\u001b[0m\u001b[1;33m)\u001b[0m\u001b[1;33m\u001b[0m\u001b[1;33m\u001b[0m\u001b[0m\n\u001b[0;32m      4\u001b[0m \u001b[1;33m\u001b[0m\u001b[0m\n\u001b[0;32m      5\u001b[0m \u001b[0mtn_data\u001b[0m\u001b[1;33m[\u001b[0m\u001b[1;34m'pctrnk_depth_mean'\u001b[0m\u001b[1;33m]\u001b[0m \u001b[1;33m=\u001b[0m \u001b[0mtn_data\u001b[0m\u001b[1;33m.\u001b[0m\u001b[0mdepth_mean\u001b[0m\u001b[1;33m.\u001b[0m\u001b[0mrank\u001b[0m\u001b[1;33m(\u001b[0m\u001b[0mpct\u001b[0m \u001b[1;33m=\u001b[0m \u001b[1;32mTrue\u001b[0m\u001b[1;33m,\u001b[0m \u001b[0mascending\u001b[0m \u001b[1;33m=\u001b[0m \u001b[1;32mFalse\u001b[0m\u001b[1;33m)\u001b[0m\u001b[1;33m\u001b[0m\u001b[1;33m\u001b[0m\u001b[0m\n",
      "\u001b[1;31mNameError\u001b[0m: name 'tn_data' is not defined"
     ]
    }
   ],
   "source": [
    "# get percent rank in reverse so that higher values correspond with lower risk rankings\n",
    "tn_data['pctrnk_gdp_2018'] = tn_data.gdp_2018.rank(pct = True, ascending = False)\n",
    "tn_data['pctrnk_gdp_per_cap_2018'] = tn_data.gdp_per_cap_2018.rank(pct = True, ascending = False)\n",
    "\n",
    "tn_data['pctrnk_depth_mean'] = tn_data.depth_mean.rank(pct = True, ascending = False)\n",
    "tn_data['pctrnk_depth_median'] = tn_data.depth_median.rank(pct = True, ascending = False)    \n",
    "tn_data['pctrnk_depth_min']  = tn_data.depth_min.rank(pct = True, ascending = False)"
   ]
  },
  {
   "cell_type": "code",
   "execution_count": 11,
   "metadata": {},
   "outputs": [
    {
     "ename": "NameError",
     "evalue": "name 'tn_data' is not defined",
     "output_type": "error",
     "traceback": [
      "\u001b[1;31m---------------------------------------------------------------------------\u001b[0m",
      "\u001b[1;31mNameError\u001b[0m                                 Traceback (most recent call last)",
      "\u001b[1;32m<ipython-input-11-8cefbb76f66a>\u001b[0m in \u001b[0;36m<module>\u001b[1;34m\u001b[0m\n\u001b[0;32m      1\u001b[0m \u001b[1;31m# get percentile rank for variables going in the correct direction (i.e., higher values correspond with higher risk rankings)\u001b[0m\u001b[1;33m\u001b[0m\u001b[1;33m\u001b[0m\u001b[1;33m\u001b[0m\u001b[0m\n\u001b[1;32m----> 2\u001b[1;33m \u001b[0mtn_data\u001b[0m\u001b[1;33m[\u001b[0m\u001b[1;34m'pctrnk_housing_units'\u001b[0m\u001b[1;33m]\u001b[0m \u001b[1;33m=\u001b[0m \u001b[0mtn_data\u001b[0m\u001b[1;33m.\u001b[0m\u001b[0mtotal_housing_units_2019\u001b[0m\u001b[1;33m.\u001b[0m\u001b[0mrank\u001b[0m\u001b[1;33m(\u001b[0m\u001b[0mpct\u001b[0m\u001b[1;33m=\u001b[0m\u001b[1;32mTrue\u001b[0m\u001b[1;33m)\u001b[0m\u001b[1;33m\u001b[0m\u001b[1;33m\u001b[0m\u001b[0m\n\u001b[0m\u001b[0;32m      3\u001b[0m \u001b[0mtn_data\u001b[0m\u001b[1;33m[\u001b[0m\u001b[1;34m'pctrnk_pop_est'\u001b[0m\u001b[1;33m]\u001b[0m \u001b[1;33m=\u001b[0m \u001b[0mtn_data\u001b[0m\u001b[1;33m.\u001b[0m\u001b[0mpopulation_est\u001b[0m\u001b[1;33m.\u001b[0m\u001b[0mrank\u001b[0m\u001b[1;33m(\u001b[0m\u001b[0mpct\u001b[0m\u001b[1;33m=\u001b[0m\u001b[1;32mTrue\u001b[0m\u001b[1;33m)\u001b[0m\u001b[1;33m\u001b[0m\u001b[1;33m\u001b[0m\u001b[0m\n\u001b[0;32m      4\u001b[0m \u001b[0mtn_data\u001b[0m\u001b[1;33m[\u001b[0m\u001b[1;34m'pctrnk_uninsured'\u001b[0m\u001b[1;33m]\u001b[0m \u001b[1;33m=\u001b[0m \u001b[0mtn_data\u001b[0m\u001b[1;33m.\u001b[0m\u001b[0mpct_uninsured\u001b[0m\u001b[1;33m.\u001b[0m\u001b[0mrank\u001b[0m\u001b[1;33m(\u001b[0m\u001b[0mpct\u001b[0m\u001b[1;33m=\u001b[0m\u001b[1;32mTrue\u001b[0m\u001b[1;33m)\u001b[0m\u001b[1;33m\u001b[0m\u001b[1;33m\u001b[0m\u001b[0m\n\u001b[0;32m      5\u001b[0m \u001b[0mtn_data\u001b[0m\u001b[1;33m[\u001b[0m\u001b[1;34m'pctrnk_mag_mean'\u001b[0m\u001b[1;33m]\u001b[0m \u001b[1;33m=\u001b[0m \u001b[0mtn_data\u001b[0m\u001b[1;33m.\u001b[0m\u001b[0mmag_mean\u001b[0m\u001b[1;33m.\u001b[0m\u001b[0mrank\u001b[0m\u001b[1;33m(\u001b[0m\u001b[0mpct\u001b[0m\u001b[1;33m=\u001b[0m\u001b[1;32mTrue\u001b[0m\u001b[1;33m)\u001b[0m\u001b[1;33m\u001b[0m\u001b[1;33m\u001b[0m\u001b[0m\n",
      "\u001b[1;31mNameError\u001b[0m: name 'tn_data' is not defined"
     ]
    }
   ],
   "source": [
    "# get percentile rank for variables going in the correct direction (i.e., higher values correspond with higher risk rankings)\n",
    "tn_data['pctrnk_housing_units'] = tn_data.total_housing_units_2019.rank(pct=True)\n",
    "tn_data['pctrnk_pop_est'] = tn_data.population_est.rank(pct=True)\n",
    "tn_data['pctrnk_uninsured'] = tn_data.pct_uninsured.rank(pct=True)\n",
    "tn_data['pctrnk_mag_mean'] = tn_data.mag_mean.rank(pct=True)\n",
    "tn_data['pctrnk_mag_median'] = tn_data.mag_median.rank(pct=True)\n",
    "tn_data['pctrnk_mag_max'] = tn_data.mag_max.rank(pct=True)\n",
    "tn_data['pctrnk_earthquakes'] = tn_data.num_earthquakes.rank(pct=True)\n",
    "tn_data['pctrnk_prob_100y_median'] = tn_data.pct_prob_100y_median.rank(pct=True)\n",
    "tn_data['pctrnk_prob_100y_max'] =  tn_data.pct_prob_100y_max.rank(pct=True)"
   ]
  },
  {
   "cell_type": "markdown",
   "metadata": {},
   "source": [
    "Low numbers = low risk  \n",
    "High numbers = high risk  \n",
    "\n",
    "For fully aggregated data set (prioritize - #1):  \n",
    "* for every variable, does it follow the right pattern/direction?\n",
    "* reverse-coded: depth, GDP, GDP per capita (as neg)\n",
    "* depth (median and max)\n",
    "* magnitude (median and max)\n",
    "\n",
    "Generate histograms for each variable of interest; if skewed (probably pop, magnitude), create new column with np.log() to normalize it (prioritize - #3)\n",
    "\n",
    "Scikitlearn (for weighting) (prioritize - #2)\n",
    "\n",
    "Calculations\n",
    "* Cum H, Ex, V\n",
    "   * Average of each category (weighing every variable equally, regardless of how many components)\n",
    "* Cum H, Ex, V\n",
    "   * Sum of each category (biases towards areas with more data points)\n",
    "(Either way should go in the same direction)\n",
    "\n",
    "Plug in both cum calc into risk formulas for two columns\n",
    "risk_avg (also w/np.log() columns)\n",
    "risk_sum (also w/np.log() columns)\n",
    "\n",
    "Map risk_avg and risk_sum; throw into widget \n",
    "\n",
    "If not informative, do we want to double weights? Play around with formula to get a cleaner visualization to make a case for opportunities to invest"
   ]
  },
  {
   "cell_type": "markdown",
   "metadata": {},
   "source": [
    "## Step 2 - Calculate Values for Risk Categories    \n",
    "  \n",
    "EmR / DR / CatR = H + Ex × V    \n",
    "  \n",
    "#### Code for calculating hazard score column:    \n",
    "tn_data[‘hazzard_wcs’] = tn_data[‘pctrnk_earthquakes’] + tn_data[‘pctrnk_mag_max’] + tn_data[‘pctrnk_prob_100y_max’] + tn_data[‘pctrnk_depth_min’]\n",
    "  \n",
    "#### Code for calculating exposure score column:  \n",
    "tn_data[‘exposure_wcs’] = tn_data[‘pctrnk_pop_est’] + tn_data[‘pctrnk_gdp_2018’] + tn_data[‘pctrnk_gdp_per_cap_2018’] + tn_data[‘pctrnk_housing_units’]\n",
    "  \n",
    "#### Code for calculating vulnerability score column:  \n",
    "tn_data[‘vulnerability_wcs’] = tn_data[‘socioeconomic’] + tn_data[‘household_comp_and_disability’] + tn_data[‘minority_status_and_language’] + tn_data[‘housing_type_and_transportation’] + tn_data[‘pctrnk_uninsured’]\n",
    "  \n",
    "#### Code for calculating risk score column:  \n",
    "tn_data[‘risk_calc_wcs’] = tn_data[‘hazzard_wcs’] + tn_data[‘exposure_wcs’] * tn_data[‘vulnerability_wcs’]  \n",
    "  \n",
    "The 'wcs' ending refers to 'worst case scenario' since all of these calcuations use the max values for mag, prob_100y, and depth. We could use a different ending/abbreviation for the inclusion of mean and median values if desired."
   ]
  },
  {
   "cell_type": "code",
   "execution_count": 12,
   "metadata": {},
   "outputs": [
    {
     "ename": "NameError",
     "evalue": "name 'tn_data' is not defined",
     "output_type": "error",
     "traceback": [
      "\u001b[1;31m---------------------------------------------------------------------------\u001b[0m",
      "\u001b[1;31mNameError\u001b[0m                                 Traceback (most recent call last)",
      "\u001b[1;32m<ipython-input-12-b232bd5b308a>\u001b[0m in \u001b[0;36m<module>\u001b[1;34m\u001b[0m\n\u001b[0;32m      1\u001b[0m \u001b[1;31m# Code for calculating hazard score column:\u001b[0m\u001b[1;33m\u001b[0m\u001b[1;33m\u001b[0m\u001b[1;33m\u001b[0m\u001b[0m\n\u001b[1;32m----> 2\u001b[1;33m \u001b[0mtn_data\u001b[0m\u001b[1;33m[\u001b[0m\u001b[1;34m'hazzard_wcs'\u001b[0m\u001b[1;33m]\u001b[0m \u001b[1;33m=\u001b[0m \u001b[0mtn_data\u001b[0m\u001b[1;33m[\u001b[0m\u001b[1;34m'pctrnk_earthquakes'\u001b[0m\u001b[1;33m]\u001b[0m \u001b[1;33m+\u001b[0m \u001b[0mtn_data\u001b[0m\u001b[1;33m[\u001b[0m\u001b[1;34m'pctrnk_mag_max'\u001b[0m\u001b[1;33m]\u001b[0m \u001b[1;33m+\u001b[0m \u001b[0mtn_data\u001b[0m\u001b[1;33m[\u001b[0m\u001b[1;34m'pctrnk_prob_100y_max'\u001b[0m\u001b[1;33m]\u001b[0m \u001b[1;33m+\u001b[0m \u001b[0mtn_data\u001b[0m\u001b[1;33m[\u001b[0m\u001b[1;34m'pctrnk_depth_min'\u001b[0m\u001b[1;33m]\u001b[0m\u001b[1;33m\u001b[0m\u001b[1;33m\u001b[0m\u001b[0m\n\u001b[0m\u001b[0;32m      3\u001b[0m \u001b[0mtn_data\u001b[0m\u001b[1;33m[\u001b[0m\u001b[1;34m'pctrnk_hazzard_wcs'\u001b[0m\u001b[1;33m]\u001b[0m \u001b[1;33m=\u001b[0m \u001b[0mtn_data\u001b[0m\u001b[1;33m.\u001b[0m\u001b[0mhazzard_wcs\u001b[0m\u001b[1;33m.\u001b[0m\u001b[0mrank\u001b[0m\u001b[1;33m(\u001b[0m\u001b[0mpct\u001b[0m\u001b[1;33m=\u001b[0m\u001b[1;32mTrue\u001b[0m\u001b[1;33m)\u001b[0m\u001b[1;33m\u001b[0m\u001b[1;33m\u001b[0m\u001b[0m\n\u001b[0;32m      4\u001b[0m \u001b[1;33m\u001b[0m\u001b[0m\n\u001b[0;32m      5\u001b[0m \u001b[1;31m# Code for calculating exposure score column:\u001b[0m\u001b[1;33m\u001b[0m\u001b[1;33m\u001b[0m\u001b[1;33m\u001b[0m\u001b[0m\n",
      "\u001b[1;31mNameError\u001b[0m: name 'tn_data' is not defined"
     ]
    }
   ],
   "source": [
    "# Code for calculating hazard score column:  \n",
    "tn_data['hazzard_wcs'] = tn_data['pctrnk_earthquakes'] + tn_data['pctrnk_mag_max'] + tn_data['pctrnk_prob_100y_max'] + tn_data['pctrnk_depth_min']\n",
    "tn_data['pctrnk_hazzard_wcs'] = tn_data.hazzard_wcs.rank(pct=True)\n",
    "\n",
    "# Code for calculating exposure score column:\n",
    "tn_data['exposure_wcs'] = tn_data['pctrnk_pop_est'] + tn_data['pctrnk_gdp_2018'] + tn_data['pctrnk_gdp_per_cap_2018'] + tn_data['pctrnk_housing_units']\n",
    "tn_data['pctrnk_exposure_wcs'] = tn_data.exposure_wcs.rank(pct=True)\n",
    "\n",
    "# Code for calculating vulnerability score column:\n",
    "tn_data['vulnerability_wcs'] = tn_data['socioeconomic'] + tn_data['household_comp_and_disability'] + tn_data['minority_status_and_language'] + tn_data['housing_type_and_transportation'] + tn_data['pctrnk_uninsured']\n",
    "tn_data['pctrnk_vul_wcs'] = tn_data.vulnerability_wcs.rank(pct=True)\n",
    "\n",
    "# Code for calculating risk score column:\n",
    "tn_data['risk_calc_wcs'] = tn_data['hazzard_wcs'] + tn_data['exposure_wcs'] * tn_data['vulnerability_wcs']\n",
    "tn_data['risk_calc_wcs'] = tn_data.risk_calc_wcs.rank(pct=True)"
   ]
  },
  {
   "cell_type": "code",
   "execution_count": 13,
   "metadata": {},
   "outputs": [
    {
     "ename": "NameError",
     "evalue": "name 'tn_data' is not defined",
     "output_type": "error",
     "traceback": [
      "\u001b[1;31m---------------------------------------------------------------------------\u001b[0m",
      "\u001b[1;31mNameError\u001b[0m                                 Traceback (most recent call last)",
      "\u001b[1;32m<ipython-input-13-dea093b01088>\u001b[0m in \u001b[0;36m<module>\u001b[1;34m\u001b[0m\n\u001b[1;32m----> 1\u001b[1;33m \u001b[0mtn_data\u001b[0m\u001b[1;33m\u001b[0m\u001b[1;33m\u001b[0m\u001b[0m\n\u001b[0m",
      "\u001b[1;31mNameError\u001b[0m: name 'tn_data' is not defined"
     ]
    }
   ],
   "source": [
    "tn_data"
   ]
  },
  {
   "cell_type": "code",
   "execution_count": 14,
   "metadata": {},
   "outputs": [
    {
     "ename": "NameError",
     "evalue": "name 'tn_data' is not defined",
     "output_type": "error",
     "traceback": [
      "\u001b[1;31m---------------------------------------------------------------------------\u001b[0m",
      "\u001b[1;31mNameError\u001b[0m                                 Traceback (most recent call last)",
      "\u001b[1;32m<ipython-input-14-fbc717577749>\u001b[0m in \u001b[0;36m<module>\u001b[1;34m\u001b[0m\n\u001b[1;32m----> 1\u001b[1;33m \u001b[0mtn_data\u001b[0m\u001b[1;33m.\u001b[0m\u001b[0mto_csv\u001b[0m\u001b[1;33m(\u001b[0m\u001b[1;34m'../data/tn_data_pctrnk_risk_calc.csv'\u001b[0m\u001b[1;33m)\u001b[0m\u001b[1;33m\u001b[0m\u001b[1;33m\u001b[0m\u001b[0m\n\u001b[0m",
      "\u001b[1;31mNameError\u001b[0m: name 'tn_data' is not defined"
     ]
    }
   ],
   "source": [
    "tn_data.to_csv('../data/tn_data_pctrnk_risk_calc.csv')"
   ]
  },
  {
   "cell_type": "code",
   "execution_count": null,
   "metadata": {},
   "outputs": [],
   "source": []
  }
 ],
 "metadata": {
  "kernelspec": {
   "display_name": "Python 3",
   "language": "python",
   "name": "python3"
  },
  "language_info": {
   "codemirror_mode": {
    "name": "ipython",
    "version": 3
   },
   "file_extension": ".py",
   "mimetype": "text/x-python",
   "name": "python",
   "nbconvert_exporter": "python",
   "pygments_lexer": "ipython3",
   "version": "3.8.3"
  }
 },
 "nbformat": 4,
 "nbformat_minor": 4
}
