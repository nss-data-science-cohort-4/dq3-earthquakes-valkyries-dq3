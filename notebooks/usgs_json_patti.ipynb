{
 "cells": [
  {
   "cell_type": "code",
   "execution_count": 3,
   "metadata": {},
   "outputs": [],
   "source": [
    "import requests"
   ]
  },
  {
   "cell_type": "code",
   "execution_count": 4,
   "metadata": {},
   "outputs": [],
   "source": [
    "url = 'https://earthquake.usgs.gov/fdsnws/event/1/application.json'"
   ]
  },
  {
   "cell_type": "code",
   "execution_count": 5,
   "metadata": {},
   "outputs": [],
   "source": [
    "r = requests.get(url)"
   ]
  },
  {
   "cell_type": "code",
   "execution_count": 8,
   "metadata": {},
   "outputs": [],
   "source": [
    "json_data = r.json()"
   ]
  },
  {
   "cell_type": "code",
   "execution_count": 11,
   "metadata": {},
   "outputs": [
    {
     "name": "stdout",
     "output_type": "stream",
     "text": [
      "catalogs: ['38457511', '=c', 'ak', 'at', 'atlas', 'av', 'cdmg', 'cgs', 'choy', 'ci', 'cidev', 'dr', 'duputel', 'eqh', 'ew', 'ew_dm', 'gcmt', 'gsc', 'hv', 'id', 'is', 'iscgem', 'iscgemsup', 'ismpkansas', 'ld', 'mb', 'nc', 'ne', 'nm', 'nn', 'official', 'official19631013051759_30', 'ok', 'pr', 'pt', 'sc', 'se', 'unknown', 'us', 'ushis', 'uu', 'uw']\n",
      "contributors: ['admin', 'ak', 'at', 'atlas', 'av', 'cgs', 'ci', 'ew', 'hv', 'ismp', 'ld', 'mb', 'nc', 'nm', 'nn', 'np', 'official', 'ok', 'pr', 'pt', 'se', 'us', 'uu', 'uw']\n",
      "producttypes: ['associate', 'cap', 'deleted-text', 'disassociate', 'dyfi', 'earthquake-name', 'eq-location-map', 'finite-fault', 'focal-mechanism', 'general-header', 'general-link', 'general-text', 'geoserve', 'ground-failure', 'historical-moment-tensor-map', 'historical-seismicity-map', 'image', 'impact-link', 'impact-text', 'internal-origin', 'isoseismal-map', 'losspager', 'losspager-admin', 'moment-tensor', 'moreinformation', 'nearby-cities', 'oaf', 'origin', 'p-wave-travel-times', 'phase-data', 'poster', 'scitech-link', 'scitech-text', 'shake-alert', 'shakemap', 'significance', 'tectonic-summary', 'touch', 'trump', 'trump-cap', 'trump-dyfi', 'trump-general-link', 'trump-general-text', 'trump-geoserve', 'trump-ground-failure', 'trump-impact-text', 'trump-losspager', 'trump-moment-tensor', 'trump-nearby-cities', 'trump-origin', 'trump-phase-data', 'trump-shakemap', 'trump-tectonic-summary', 'unassociated-amplitude']\n",
      "eventtypes: ['acoustic noise', 'acoustic_noise', 'anthropogenic_event', 'building collapse', 'chemical explosion', 'chemical_explosion', 'collapse', 'earthquake', 'eq', 'experimental explosion', 'explosion', 'ice quake', 'induced or triggered event', 'industrial explosion', 'landslide', 'meteor', 'meteorite', 'mine collapse', 'mine_collapse', 'mining explosion', 'mining_explosion', 'not reported', 'not_reported', 'nuclear explosion', 'nuclear_explosion', 'other', 'other event', 'other_event', 'quarry', 'quarry blast', 'quarry_blast', 'rock burst', 'Rock Slide', 'rockslide', 'rock_burst', 'snow_avalanche', 'sonic boom', 'sonicboom', 'sonic_boom', 'volcanic eruption', 'volcanic explosion']\n",
      "magnitudetypes: ['2', '4', 'fa', 'H', 'lg', 'm', 'ma', 'mb', 'MbLg', 'mb_lg', 'mc', 'Md', 'mdl', 'Me', 'mfa', 'mh', 'Mi', 'mint', 'ml', 'mlg', 'mlr', 'mlv', 'Ms', 'ms_20', 'Mt', 'mun', 'mw', 'mwb', 'mwc', 'mwp', 'mwr', 'mww', 'no', 'uk', 'Unknown']\n"
     ]
    }
   ],
   "source": [
    "for key, value in json_data.items():\n",
    "    print (key + ':', value)"
   ]
  },
  {
   "cell_type": "code",
   "execution_count": null,
   "metadata": {},
   "outputs": [],
   "source": []
  }
 ],
 "metadata": {
  "kernelspec": {
   "display_name": "Python 3",
   "language": "python",
   "name": "python3"
  },
  "language_info": {
   "codemirror_mode": {
    "name": "ipython",
    "version": 3
   },
   "file_extension": ".py",
   "mimetype": "text/x-python",
   "name": "python",
   "nbconvert_exporter": "python",
   "pygments_lexer": "ipython3",
   "version": "3.8.3"
  }
 },
 "nbformat": 4,
 "nbformat_minor": 4
}
